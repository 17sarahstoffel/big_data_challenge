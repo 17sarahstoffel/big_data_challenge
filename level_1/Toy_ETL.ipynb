{
  "cells": [
    {
      "cell_type": "markdown",
      "source": [
        "Extract the Data from Amazon"
      ],
      "metadata": {
        "id": "TYM7UFmjW81o"
      }
    },
    {
      "cell_type": "code",
      "execution_count": 1,
      "metadata": {
        "id": "5WosHdRWdmpw",
        "colab": {
          "base_uri": "https://localhost:8080/"
        },
        "outputId": "0ed0a4ba-b79e-436f-f7ba-937afab9b8ba"
      },
      "outputs": [
        {
          "output_type": "stream",
          "name": "stdout",
          "text": [
            "Hit:1 http://archive.ubuntu.com/ubuntu bionic InRelease\n",
            "Get:2 http://archive.ubuntu.com/ubuntu bionic-updates InRelease [88.7 kB]\n",
            "Get:3 http://archive.ubuntu.com/ubuntu bionic-backports InRelease [83.3 kB]\n",
            "Get:4 https://cloud.r-project.org/bin/linux/ubuntu bionic-cran40/ InRelease [3,626 B]\n",
            "Hit:5 http://ppa.launchpad.net/c2d4u.team/c2d4u4.0+/ubuntu bionic InRelease\n",
            "Get:6 http://security.ubuntu.com/ubuntu bionic-security InRelease [88.7 kB]\n",
            "Ign:7 https://developer.download.nvidia.com/compute/machine-learning/repos/ubuntu1804/x86_64  InRelease\n",
            "Get:8 https://developer.download.nvidia.com/compute/cuda/repos/ubuntu1804/x86_64  InRelease [1,581 B]\n",
            "Hit:9 https://developer.download.nvidia.com/compute/machine-learning/repos/ubuntu1804/x86_64  Release\n",
            "Hit:10 http://ppa.launchpad.net/cran/libgit2/ubuntu bionic InRelease\n",
            "Hit:11 http://ppa.launchpad.net/deadsnakes/ppa/ubuntu bionic InRelease\n",
            "Get:12 http://ppa.launchpad.net/graphics-drivers/ppa/ubuntu bionic InRelease [21.3 kB]\n",
            "Get:13 http://archive.ubuntu.com/ubuntu bionic-updates/universe amd64 Packages [2,338 kB]\n",
            "Get:14 http://archive.ubuntu.com/ubuntu bionic-updates/restricted amd64 Packages [1,303 kB]\n",
            "Get:15 http://archive.ubuntu.com/ubuntu bionic-updates/main amd64 Packages [3,497 kB]\n",
            "Get:16 https://developer.download.nvidia.com/compute/cuda/repos/ubuntu1804/x86_64  Packages [1,038 kB]\n",
            "Get:18 http://security.ubuntu.com/ubuntu bionic-security/restricted amd64 Packages [1,262 kB]\n",
            "Get:19 http://security.ubuntu.com/ubuntu bionic-security/main amd64 Packages [3,071 kB]\n",
            "Get:20 http://security.ubuntu.com/ubuntu bionic-security/universe amd64 Packages [1,563 kB]\n",
            "Get:21 http://ppa.launchpad.net/graphics-drivers/ppa/ubuntu bionic/main amd64 Packages [38.5 kB]\n",
            "Fetched 14.4 MB in 6s (2,386 kB/s)\n",
            "Reading package lists... Done\n"
          ]
        }
      ],
      "source": [
        "import os\n",
        "import pandas as pd\n",
        "# Find the latest version of spark 3.2.x  from http://www.apache.org/dist/spark/ and enter as the spark version\n",
        "spark_version = 'spark-3.2.3'\n",
        "\n",
        "os.environ['SPARK_VERSION']=spark_version\n",
        "\n",
        "# Install Spark and Java\n",
        "!apt-get update\n",
        "!apt-get install openjdk-8-jdk-headless -qq > /dev/null\n",
        "!wget -q http://www.apache.org/dist/spark/$SPARK_VERSION/$SPARK_VERSION-bin-hadoop2.7.tgz\n",
        "!tar xf $SPARK_VERSION-bin-hadoop2.7.tgz\n",
        "!pip install -q findspark\n",
        "\n",
        "# Set Environment Variables\n",
        "os.environ[\"JAVA_HOME\"] = \"/usr/lib/jvm/java-8-openjdk-amd64\"\n",
        "os.environ[\"SPARK_HOME\"] = f\"/content/{spark_version}-bin-hadoop2.7\"\n",
        "\n",
        "# Start a SparkSession\n",
        "import findspark\n",
        "findspark.init()"
      ]
    },
    {
      "cell_type": "code",
      "execution_count": 2,
      "metadata": {
        "id": "xISV-9eR6Yah",
        "colab": {
          "base_uri": "https://localhost:8080/"
        },
        "outputId": "689eb9c5-a0b1-40cb-8082-689ac3fb444d"
      },
      "outputs": [
        {
          "output_type": "stream",
          "name": "stdout",
          "text": [
            "--2022-11-30 04:30:14--  https://jdbc.postgresql.org/download/postgresql-42.2.9.jar\n",
            "Resolving jdbc.postgresql.org (jdbc.postgresql.org)... 72.32.157.228, 2001:4800:3e1:1::228\n",
            "Connecting to jdbc.postgresql.org (jdbc.postgresql.org)|72.32.157.228|:443... connected.\n",
            "HTTP request sent, awaiting response... 200 OK\n",
            "Length: 914037 (893K) [application/java-archive]\n",
            "Saving to: ‘postgresql-42.2.9.jar’\n",
            "\n",
            "postgresql-42.2.9.j 100%[===================>] 892.61K  4.94MB/s    in 0.2s    \n",
            "\n",
            "2022-11-30 04:30:15 (4.94 MB/s) - ‘postgresql-42.2.9.jar’ saved [914037/914037]\n",
            "\n"
          ]
        }
      ],
      "source": [
        "# Install the PostgreSQL driver in our Colab environment\n",
        "!wget https://jdbc.postgresql.org/download/postgresql-42.2.9.jar"
      ]
    },
    {
      "cell_type": "code",
      "execution_count": 3,
      "metadata": {
        "id": "aEQFTWiV6g2h"
      },
      "outputs": [],
      "source": [
        "# Establish a Spark session and add the Postgres driver to the filepath\n",
        "from pyspark.sql import SparkSession\n",
        "spark = SparkSession.builder.appName(\"CloudETL\").config(\"spark.driver.extraClassPath\",\"/content/postgresql-42.2.9.jar\").getOrCreate()"
      ]
    },
    {
      "cell_type": "code",
      "execution_count": 4,
      "metadata": {
        "id": "qik6uGSV9BWa",
        "colab": {
          "base_uri": "https://localhost:8080/"
        },
        "outputId": "c0cb5050-7f94-4abc-e87a-b622a8f73fda"
      },
      "outputs": [
        {
          "output_type": "stream",
          "name": "stdout",
          "text": [
            "+-----------+-----------+--------------+----------+--------------+--------------------+----------------+-----------+-------------+-----------+----+-----------------+--------------------+--------------------+-----------+\n",
            "|marketplace|customer_id|     review_id|product_id|product_parent|       product_title|product_category|star_rating|helpful_votes|total_votes|vine|verified_purchase|     review_headline|         review_body|review_date|\n",
            "+-----------+-----------+--------------+----------+--------------+--------------------+----------------+-----------+-------------+-----------+----+-----------------+--------------------+--------------------+-----------+\n",
            "|         US|   18778586| RDIJS7QYB6XNR|B00EDBY7X8|     122952789|Monopoly Junior B...|            Toys|          5|            0|          0|   N|                Y|          Five Stars|        Excellent!!!| 2015-08-31|\n",
            "|         US|   24769659|R36ED1U38IELG8|B00D7JFOPC|     952062646|56 Pieces of Wood...|            Toys|          5|            0|          0|   N|                Y|Good quality trac...|Great quality woo...| 2015-08-31|\n",
            "|         US|   44331596| R1UE3RPRGCOLD|B002LHA74O|     818126353|Super Jumbo Playi...|            Toys|          2|            1|          1|   N|                Y|           Two Stars|Cards are not as ...| 2015-08-31|\n",
            "|         US|   23310293|R298788GS6I901|B00ARPLCGY|     261944918|Barbie Doll and F...|            Toys|          5|            0|          0|   N|                Y|my daughter loved...|my daughter loved...| 2015-08-31|\n",
            "|         US|   38745832|  RNX4EXOBBPN5|B00UZOPOFW|     717410439|Emazing Lights eL...|            Toys|          1|            1|          1|   N|                Y|     DONT BUY THESE!|Do not buy these!...| 2015-08-31|\n",
            "|         US|   13394189|R3BPETL222LMIM|B009B7F6CA|     873028700|Melissa & Doug Wa...|            Toys|          5|            0|          0|   N|                Y|          Five Stars|Great item. Pictu...| 2015-08-31|\n",
            "|         US|    2749569|R3SORMPJZO3F2J|B0101EHRSM|     723424342|Big Bang Cosmic P...|            Toys|          3|            2|          2|   N|                Y|         Three Stars|To keep together,...| 2015-08-31|\n",
            "|         US|   41137196|R2RDOJQ0WBZCF6|B00407S11Y|     383363775|Fun Express Insec...|            Toys|          5|            0|          0|   N|                Y|          Five Stars|I was pleased wit...| 2015-08-31|\n",
            "|         US|     433677|R2B8VBEPB4YEZ7|B00FGPU7U2|     780517568|Fisher-Price Octo...|            Toys|          5|            0|          0|   N|                Y|          Five Stars|    Children like it| 2015-08-31|\n",
            "|         US|    1297934|R1CB783I7B0U52|B0013OY0S0|     269360126|Claw Climber Goli...|            Toys|          1|            0|          1|   N|                Y|Shame on the sell...|Showed up not how...| 2015-08-31|\n",
            "|         US|   52006292| R2D90RQQ3V8LH|B00519PJTW|     493486387|100 Foot Multicol...|            Toys|          5|            0|          0|   N|                Y|          Five Stars|Really liked thes...| 2015-08-31|\n",
            "|         US|   32071052|R1Y4ZOUGFMJ327|B001TCY2DO|     459122467|Pig Jumbo Foil Ba...|            Toys|          5|            0|          0|   N|                Y|   Nice huge balloon|Nice huge balloon...| 2015-08-31|\n",
            "|         US|    7360347|R2BUV9QJI2A00X|B00DOQCWF8|     226984155|Minecraft Animal ...|            Toys|          5|            0|          1|   N|                Y|          Five Stars|          Great deal| 2015-08-31|\n",
            "|         US|   11613707| RSUHRJFJIRB3Z|B004C04I4I|     375659886|Disney Baby: Eeyo...|            Toys|          4|            0|          0|   N|                Y|          Four Stars|       As Advertised| 2015-08-31|\n",
            "|         US|   13545982|R1T96CG98BBA15|B00NWGEKBY|     933734136|Team Losi 8IGHT-E...|            Toys|          3|            2|          4|   N|                Y|... servo so expe...|Comes w a 15$ ser...| 2015-08-31|\n",
            "|         US|   43880421| R2ATXF4QQ30YW|B00000JS5S|     341842639|Hot Wheels 48- Ca...|            Toys|          5|            0|          0|   N|                Y|          Five Stars|   awesome ! Thanks!| 2015-08-31|\n",
            "|         US|    1662075|R1YS3DS218NNMD|B00XPWXYDK|     210135375|ZuZo 2.4GHz 4 CH ...|            Toys|          5|            4|          4|   N|                N|The closest relev...|I got this item f...| 2015-08-31|\n",
            "|         US|   18461411|R2SDXLTLF92O0H|B00VPXX92W|     705054378|Teenage Mutant Ni...|            Toys|          5|            0|          0|   N|                Y|          Five Stars|It was a birthday...| 2015-08-31|\n",
            "|         US|   27225859| R4R337CCDWLNG|B00YRA3H4U|     223420727|Franklin Sports M...|            Toys|          3|            0|          1|   Y|                N|Got wrong product...|Got a wrong produ...| 2015-08-31|\n",
            "|         US|   20494593|R32Z6UA4S5Q630|B009T8BSQY|     787701676|Alien Frontiers: ...|            Toys|          1|            0|          0|   N|                Y|         Overpriced.|You need expansio...| 2015-08-31|\n",
            "+-----------+-----------+--------------+----------+--------------+--------------------+----------------+-----------+-------------+-----------+----+-----------------+--------------------+--------------------+-----------+\n",
            "only showing top 20 rows\n",
            "\n"
          ]
        }
      ],
      "source": [
        "# Read the first CSV file from an S3 bucket\n",
        "from pyspark import SparkFiles\n",
        "url = \"https://s3.amazonaws.com/amazon-reviews-pds/tsv/amazon_reviews_us_Toys_v1_00.tsv.gz\"\n",
        "spark.sparkContext.addFile(url)\n",
        "toy_data_df = spark.read.csv(SparkFiles.get(\"amazon_reviews_us_Toys_v1_00.tsv.gz\"), sep=\"\\t\", header=True, inferSchema=True)\n",
        "\n",
        "\n",
        "\n",
        "# Show DataFrame\n",
        "toy_data_df.show()"
      ]
    },
    {
      "cell_type": "code",
      "execution_count": 5,
      "metadata": {
        "id": "rtDndjrdlh83"
      },
      "outputs": [],
      "source": [
        "# Drop null values\n",
        "toy_df = toy_data_df.dropna(how='any')\n",
        "\n",
        "#Drop duplicate values\n",
        "toy_df= toy_df.drop_duplicates()"
      ]
    },
    {
      "cell_type": "markdown",
      "source": [
        "Count the number of rows"
      ],
      "metadata": {
        "id": "3-xTdiTGXLR-"
      }
    },
    {
      "cell_type": "code",
      "source": [
        "toy_df.count()"
      ],
      "metadata": {
        "id": "tPUPRcyvXSCv",
        "colab": {
          "base_uri": "https://localhost:8080/"
        },
        "outputId": "7140e2b9-5b66-4d07-fe7c-10182bd0b334"
      },
      "execution_count": 6,
      "outputs": [
        {
          "output_type": "execute_result",
          "data": {
            "text/plain": [
              "4863497"
            ]
          },
          "metadata": {},
          "execution_count": 6
        }
      ]
    },
    {
      "cell_type": "code",
      "execution_count": 7,
      "metadata": {
        "id": "qVzKY3EjmUoj",
        "colab": {
          "base_uri": "https://localhost:8080/"
        },
        "outputId": "66c2aa1e-3c65-4598-de54-3123c57db209"
      },
      "outputs": [
        {
          "output_type": "stream",
          "name": "stdout",
          "text": [
            "+--------------+-----------+----------+--------------+-----------+\n",
            "|     review_id|customer_id|product_id|product_parent|review_date|\n",
            "+--------------+-----------+----------+--------------+-----------+\n",
            "|R10010KWXLSPF3|   43750961|B004UUHX9M|     247428181| 2014-12-05|\n",
            "|R100BG8WSTAYPG|   37257103|B00ENKGLHO|       9108602| 2014-04-29|\n",
            "|R100F00UQBXLAL|   14056891|B004O3CSX6|     579644974| 2011-11-11|\n",
            "|R1010FUSHO8ASL|   30419449|B000VXNYQI|     496402705| 2012-12-17|\n",
            "|R101LBRJ366XL1|   36812928|B000JFJC4G|     870047482| 2015-02-28|\n",
            "|R101LKRSNW6OIK|   28394801|B000FPCWXI|     841597184| 2014-07-06|\n",
            "|R101TEA798DC3M|   19838846|B0017VO5AW|     484336160| 2015-06-14|\n",
            "|R101UKS45S1Z0O|   18589384|B000GHWTS8|     632533309| 2009-12-12|\n",
            "|R101Y71FKFPSEO|   17270128|B004U7JJWE|     366785521| 2013-03-05|\n",
            "|R102ETLR4XJZFM|   37637960|B000S94NWE|     327618371| 2013-11-08|\n",
            "|R102IJ4R9UE6QH|   21873089|B00HTMCF0U|     841568092| 2015-02-16|\n",
            "|R1038ZA60A3YYJ|    2395887|B004S8F7QM|     829220659| 2014-11-08|\n",
            "|R1039LT1Z5D6A1|    6664669|B003F25VZO|     805366369| 2014-01-08|\n",
            "| R103HL2RILQNH|   50760752|B00000DMBQ|     419014956| 1999-12-09|\n",
            "|R103JYCTX53W8D|   20583036|B0060Y271K|     660945068| 2013-01-02|\n",
            "|R103OCMGHJ00W9|   49879841|B002CS0M7O|     347511288| 2011-12-29|\n",
            "|R103SQHG5EY276|   22882713|B00DKD324K|     931270641| 2013-10-03|\n",
            "|R103WV5SSO3JFF|   31971664|B0032AMW5Q|     876708531| 2015-06-24|\n",
            "|R104FJ3QQXSOLS|   25760223|B0015YV6H6|     618805508| 2014-02-23|\n",
            "|R104LN97U19SUP|    5517090|B00PZYQODI|     316845642| 2015-07-02|\n",
            "+--------------+-----------+----------+--------------+-----------+\n",
            "only showing top 20 rows\n",
            "\n"
          ]
        }
      ],
      "source": [
        "# Create the review_id_table dataframe for the database\n",
        "review_id_df = toy_df.select([\"review_id\", \"customer_id\", \"product_id\", \"product_parent\", \"review_date\"])\n",
        "review_id_df.show()"
      ]
    },
    {
      "cell_type": "code",
      "source": [
        "review_id_df.printSchema()"
      ],
      "metadata": {
        "id": "PzrPrDLoZwjI",
        "colab": {
          "base_uri": "https://localhost:8080/"
        },
        "outputId": "af7da3ad-91f9-4505-90a6-462c4f28d81c"
      },
      "execution_count": 8,
      "outputs": [
        {
          "output_type": "stream",
          "name": "stdout",
          "text": [
            "root\n",
            " |-- review_id: string (nullable = true)\n",
            " |-- customer_id: integer (nullable = true)\n",
            " |-- product_id: string (nullable = true)\n",
            " |-- product_parent: integer (nullable = true)\n",
            " |-- review_date: string (nullable = true)\n",
            "\n"
          ]
        }
      ]
    },
    {
      "cell_type": "code",
      "execution_count": 9,
      "metadata": {
        "id": "K6mUzCILmj9X",
        "colab": {
          "base_uri": "https://localhost:8080/"
        },
        "outputId": "0946ad02-2aa2-4f49-e8dd-3d9a1554c288"
      },
      "outputs": [
        {
          "output_type": "stream",
          "name": "stdout",
          "text": [
            "+----------+--------------------+\n",
            "|product_id|       product_title|\n",
            "+----------+--------------------+\n",
            "|B004UUHX9M|Star Wars Deluxe ...|\n",
            "|B00ENKGLHO|Ducati 1199 Panig...|\n",
            "|B004O3CSX6|Gund Peek A Boo Bear|\n",
            "|B000VXNYQI|Rhode Island Nove...|\n",
            "|B000JFJC4G|Toysmith Rainbow ...|\n",
            "|B000FPCWXI|Melissa & Doug La...|\n",
            "|B0017VO5AW|Boochie, A Whole ...|\n",
            "|B000GHWTS8|Reeve and Jones D...|\n",
            "|B004U7JJWE|     Munchkin Deluxe|\n",
            "|B000S94NWE|Great Exploration...|\n",
            "|B00HTMCF0U|Harley Quinn in B...|\n",
            "|B004S8F7QM|Cards Against Hum...|\n",
            "|B003F25VZO|   Itazura Coin Bank|\n",
            "|B00000DMBQ|             Cranium|\n",
            "|B0060Y271K|     Vortex Lumitron|\n",
            "|B002CS0M7O|Nintendo DS/DSI H...|\n",
            "|B00DKD324K|Disney Jr. Sofia ...|\n",
            "|B0032AMW5Q| Queen of Hearts Wig|\n",
            "|B0015YV6H6|Touch and Feel Fl...|\n",
            "|B00PZYQODI|Melissa & Doug Me...|\n",
            "+----------+--------------------+\n",
            "only showing top 20 rows\n",
            "\n"
          ]
        }
      ],
      "source": [
        "# Create a product dataframe for the database\n",
        "product_df = toy_df.select([\"product_id\", \"product_title\"])\n",
        "product_df.show()"
      ]
    },
    {
      "cell_type": "code",
      "source": [
        "product_df.printSchema()"
      ],
      "metadata": {
        "id": "CrV-1EDcZ4_c",
        "colab": {
          "base_uri": "https://localhost:8080/"
        },
        "outputId": "5916784f-58ce-4ae8-bb12-fff0268aeb67"
      },
      "execution_count": 10,
      "outputs": [
        {
          "output_type": "stream",
          "name": "stdout",
          "text": [
            "root\n",
            " |-- product_id: string (nullable = true)\n",
            " |-- product_title: string (nullable = true)\n",
            "\n"
          ]
        }
      ]
    },
    {
      "cell_type": "code",
      "source": [
        "# Create customer dataframe for the  database\n",
        "customers_df = toy_df.select([\"customer_id\"])\n",
        "customers_df = customers_df.groupBy(\"customer_id\").count()\n",
        "customers_df.orderBy(\"customer_id\").select([\"customer_id\", \"count\"])\n",
        "customers_df = customers_df.withColumnRenamed(\"count\", \"customer_count\")\n",
        "customers_df.show()"
      ],
      "metadata": {
        "id": "SWyG9NBDaBiy",
        "colab": {
          "base_uri": "https://localhost:8080/"
        },
        "outputId": "45248af2-7560-4faa-b611-b154d96a282d"
      },
      "execution_count": 11,
      "outputs": [
        {
          "output_type": "stream",
          "name": "stdout",
          "text": [
            "+-----------+--------------+\n",
            "|customer_id|customer_count|\n",
            "+-----------+--------------+\n",
            "|   40305706|             1|\n",
            "|    3887504|             4|\n",
            "|   41739251|             1|\n",
            "|   28952249|            51|\n",
            "|   34724923|             1|\n",
            "|   14225559|             3|\n",
            "|   26285304|             2|\n",
            "|     167919|             1|\n",
            "|   26815475|             9|\n",
            "|   14908291|             6|\n",
            "|   27672367|             2|\n",
            "|   24219298|             4|\n",
            "|   48356484|            27|\n",
            "|   18461577|             4|\n",
            "|   46086404|             1|\n",
            "|   49996826|             7|\n",
            "|   20159319|             7|\n",
            "|   24353265|             2|\n",
            "|   19833133|             4|\n",
            "|   51567618|             2|\n",
            "+-----------+--------------+\n",
            "only showing top 20 rows\n",
            "\n"
          ]
        }
      ]
    },
    {
      "cell_type": "code",
      "source": [
        "customers_df.printSchema()"
      ],
      "metadata": {
        "id": "WHKrAIlracC_",
        "colab": {
          "base_uri": "https://localhost:8080/"
        },
        "outputId": "78b397fd-c1b3-4549-ef19-2dbcf4a1b1b4"
      },
      "execution_count": 12,
      "outputs": [
        {
          "output_type": "stream",
          "name": "stdout",
          "text": [
            "root\n",
            " |-- customer_id: integer (nullable = true)\n",
            " |-- customer_count: long (nullable = false)\n",
            "\n"
          ]
        }
      ]
    },
    {
      "cell_type": "code",
      "source": [
        "# Create vine dataframe for the  database\n",
        "vine_df = toy_df.select([\"review_id\", \"star_rating\", \"helpful_votes\", \"total_votes\", \"vine\"])\n",
        "vine_df.show()"
      ],
      "metadata": {
        "id": "xRakJ5fRf2zR",
        "colab": {
          "base_uri": "https://localhost:8080/"
        },
        "outputId": "a30f031a-4aa4-4d41-8e9a-78796cfcc7b4"
      },
      "execution_count": 13,
      "outputs": [
        {
          "output_type": "stream",
          "name": "stdout",
          "text": [
            "+--------------+-----------+-------------+-----------+----+\n",
            "|     review_id|star_rating|helpful_votes|total_votes|vine|\n",
            "+--------------+-----------+-------------+-----------+----+\n",
            "|R10010KWXLSPF3|          5|            0|          0|   N|\n",
            "|R100BG8WSTAYPG|          5|            1|          1|   N|\n",
            "|R100F00UQBXLAL|          5|            0|          0|   N|\n",
            "|R1010FUSHO8ASL|          5|            0|          1|   N|\n",
            "|R101LBRJ366XL1|          5|            0|          0|   N|\n",
            "|R101LKRSNW6OIK|          5|            0|          0|   N|\n",
            "|R101TEA798DC3M|          4|            1|          1|   N|\n",
            "|R101UKS45S1Z0O|          5|            0|          0|   N|\n",
            "|R101Y71FKFPSEO|          5|            0|          0|   N|\n",
            "|R102ETLR4XJZFM|          5|            0|          0|   N|\n",
            "|R102IJ4R9UE6QH|          5|            0|          0|   N|\n",
            "|R1038ZA60A3YYJ|          5|            0|          0|   N|\n",
            "|R1039LT1Z5D6A1|          4|            0|          0|   N|\n",
            "| R103HL2RILQNH|          5|           10|         13|   N|\n",
            "|R103JYCTX53W8D|          5|            1|          2|   N|\n",
            "|R103OCMGHJ00W9|          1|            2|          5|   N|\n",
            "|R103SQHG5EY276|          5|            0|          0|   N|\n",
            "|R103WV5SSO3JFF|          5|            2|          2|   N|\n",
            "|R104FJ3QQXSOLS|          5|            0|          0|   N|\n",
            "|R104LN97U19SUP|          1|            0|          2|   N|\n",
            "+--------------+-----------+-------------+-----------+----+\n",
            "only showing top 20 rows\n",
            "\n"
          ]
        }
      ]
    },
    {
      "cell_type": "code",
      "source": [
        "vine_df.printSchema()"
      ],
      "metadata": {
        "id": "hLdETpzLgYwJ",
        "colab": {
          "base_uri": "https://localhost:8080/"
        },
        "outputId": "139f32a0-3cb5-4183-c406-0b3ed99c432b"
      },
      "execution_count": 14,
      "outputs": [
        {
          "output_type": "stream",
          "name": "stdout",
          "text": [
            "root\n",
            " |-- review_id: string (nullable = true)\n",
            " |-- star_rating: integer (nullable = true)\n",
            " |-- helpful_votes: integer (nullable = true)\n",
            " |-- total_votes: integer (nullable = true)\n",
            " |-- vine: string (nullable = true)\n",
            "\n"
          ]
        }
      ]
    },
    {
      "cell_type": "markdown",
      "metadata": {
        "id": "kQgPpNnVnRwh"
      },
      "source": [
        "Postgres Setup"
      ]
    },
    {
      "cell_type": "code",
      "execution_count": 15,
      "metadata": {
        "id": "985Vl1dtmpVU"
      },
      "outputs": [],
      "source": [
        "# IMPORTANT: Replace each of these parameters with your own values for your AWS RDS instance\n",
        "my_aws_endpoint = '' # replace with your own\n",
        "my_aws_port_number = '' # Your value is likely the same, but please double check\n",
        "my_aws_database_name = '' # please replace with your own\n",
        "my_aws_username = '' # Your value is likely the same, but please double check\n",
        "my_aws_password = ''# replace with your own\n"
      ]
    },
    {
      "cell_type": "code",
      "source": [
        "# Define the connection string\n",
        "jdbc_url=f'jdbc:postgresql://{my_aws_endpoint}:{my_aws_port_number}/{my_aws_database_name}'\n",
        "\n",
        "# Set up the configuration parameters\n",
        "config = {\"user\": f'{my_aws_username}', \n",
        "          \"password\": f'{my_aws_password}', \n",
        "          \"driver\":\"org.postgresql.Driver\"}\n",
        "\n",
        "# Choose to overwrite the existing data. Note that 'append' is probably a smarter choice\n",
        "# in those situations where the PostgreSQL schema automatically generates the primary key. \n",
        "#  But 'overwrite' works best for this little demo. \n",
        "mode = 'overwrite' \n"
      ],
      "metadata": {
        "id": "aemKXQGz73xR"
      },
      "execution_count": 16,
      "outputs": []
    },
    {
      "cell_type": "code",
      "execution_count": 17,
      "metadata": {
        "id": "9yyZgvcUnaNN"
      },
      "outputs": [],
      "source": [
        "# Write the dataframe to the appropriate table in your PostgreSQL RDS\n",
        "\n",
        "review_id_df.write.jdbc(url=jdbc_url, table='review_id_table', mode=mode, properties=config)"
      ]
    },
    {
      "cell_type": "code",
      "execution_count": 18,
      "metadata": {
        "id": "8rsTf2kmna3V"
      },
      "outputs": [],
      "source": [
        "# Write the dataframe to the appropriate table in your PostgreSQL RDS\n",
        "\n",
        "product_df.write.jdbc(url=jdbc_url, table='products', mode=mode, properties=config)"
      ]
    },
    {
      "cell_type": "code",
      "execution_count": 19,
      "metadata": {
        "id": "9q6Bm3kAncqx"
      },
      "outputs": [],
      "source": [
        "# Write the dataframe to the appropriate table in your PostgreSQL RDS\n",
        "\n",
        "customers_df.write.jdbc(url=jdbc_url, table='customers', mode=mode, properties=config)"
      ]
    },
    {
      "cell_type": "code",
      "execution_count": 21,
      "metadata": {
        "id": "Kx3hMnlAD5FA"
      },
      "outputs": [],
      "source": [
        "# Write the dataframe to the appropriate table in your PostgreSQL RDS\n",
        "\n",
        "vine_df.write.jdbc(url=jdbc_url, table='vine_table', mode=mode, properties=config)"
      ]
    }
  ],
  "metadata": {
    "colab": {
      "provenance": []
    },
    "kernelspec": {
      "display_name": "Python 3",
      "language": "python",
      "name": "python3"
    },
    "language_info": {
      "codemirror_mode": {
        "name": "ipython",
        "version": 3
      },
      "file_extension": ".py",
      "mimetype": "text/x-python",
      "name": "python",
      "nbconvert_exporter": "python",
      "pygments_lexer": "ipython3",
      "version": "3.8.8"
    },
    "latex_envs": {
      "LaTeX_envs_menu_present": true,
      "autoclose": false,
      "autocomplete": true,
      "bibliofile": "biblio.bib",
      "cite_by": "apalike",
      "current_citInitial": 1,
      "eqLabelWithNumbers": true,
      "eqNumInitial": 1,
      "hotkeys": {
        "equation": "Ctrl-E",
        "itemize": "Ctrl-I"
      },
      "labels_anchors": false,
      "latex_user_defs": false,
      "report_style_numbering": false,
      "user_envs_cfg": false
    }
  },
  "nbformat": 4,
  "nbformat_minor": 0
}